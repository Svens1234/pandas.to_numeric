{
 "cells": [
  {
   "cell_type": "code",
   "execution_count": 1,
   "id": "09b62d3a",
   "metadata": {},
   "outputs": [],
   "source": [
    "import pandas as pd\n",
    "import numpy as np"
   ]
  },
  {
   "cell_type": "code",
   "execution_count": 2,
   "id": "3161e492",
   "metadata": {},
   "outputs": [],
   "source": [
    "s = pd.Series(['1.0', '2', -3])"
   ]
  },
  {
   "cell_type": "code",
   "execution_count": 3,
   "id": "70489156",
   "metadata": {},
   "outputs": [
    {
     "data": {
      "text/plain": [
       "0    1.0\n",
       "1    2.0\n",
       "2   -3.0\n",
       "dtype: float64"
      ]
     },
     "execution_count": 3,
     "metadata": {},
     "output_type": "execute_result"
    }
   ],
   "source": [
    "pd.to_numeric(s)"
   ]
  },
  {
   "cell_type": "code",
   "execution_count": 4,
   "id": "5a12906b",
   "metadata": {},
   "outputs": [
    {
     "data": {
      "text/plain": [
       "0    1.0\n",
       "1    2.0\n",
       "2   -3.0\n",
       "dtype: float32"
      ]
     },
     "execution_count": 4,
     "metadata": {},
     "output_type": "execute_result"
    }
   ],
   "source": [
    "pd.to_numeric(s, downcast='float')"
   ]
  },
  {
   "cell_type": "code",
   "execution_count": 5,
   "id": "0addeebc",
   "metadata": {},
   "outputs": [
    {
     "data": {
      "text/plain": [
       "0    1\n",
       "1    2\n",
       "2   -3\n",
       "dtype: int8"
      ]
     },
     "execution_count": 5,
     "metadata": {},
     "output_type": "execute_result"
    }
   ],
   "source": [
    "pd.to_numeric(s, downcast='signed')"
   ]
  },
  {
   "cell_type": "code",
   "execution_count": 6,
   "id": "d81aefb8",
   "metadata": {},
   "outputs": [],
   "source": [
    "s = pd.Series(['apple', '1.0', '2', -3])"
   ]
  },
  {
   "cell_type": "code",
   "execution_count": 7,
   "id": "9292890f",
   "metadata": {},
   "outputs": [
    {
     "data": {
      "text/plain": [
       "0    apple\n",
       "1      1.0\n",
       "2        2\n",
       "3       -3\n",
       "dtype: object"
      ]
     },
     "execution_count": 7,
     "metadata": {},
     "output_type": "execute_result"
    }
   ],
   "source": [
    "pd.to_numeric(s, errors='ignore')"
   ]
  },
  {
   "cell_type": "code",
   "execution_count": 8,
   "id": "e01e296f",
   "metadata": {},
   "outputs": [
    {
     "data": {
      "text/plain": [
       "0    NaN\n",
       "1    1.0\n",
       "2    2.0\n",
       "3   -3.0\n",
       "dtype: float64"
      ]
     },
     "execution_count": 8,
     "metadata": {},
     "output_type": "execute_result"
    }
   ],
   "source": [
    "pd.to_numeric(s, errors='coerce')"
   ]
  },
  {
   "cell_type": "code",
   "execution_count": 9,
   "id": "2ba1ddd1",
   "metadata": {},
   "outputs": [],
   "source": [
    "s = pd.Series([1, 2, 3], dtype=\"Int64\")"
   ]
  },
  {
   "cell_type": "code",
   "execution_count": 10,
   "id": "ca7782b2",
   "metadata": {},
   "outputs": [
    {
     "data": {
      "text/plain": [
       "0    1\n",
       "1    2\n",
       "2    3\n",
       "dtype: Int8"
      ]
     },
     "execution_count": 10,
     "metadata": {},
     "output_type": "execute_result"
    }
   ],
   "source": [
    "pd.to_numeric(s, downcast=\"integer\")"
   ]
  },
  {
   "cell_type": "code",
   "execution_count": 11,
   "id": "3d7b03d3",
   "metadata": {},
   "outputs": [],
   "source": [
    "s = pd.Series([1.0, 2.1, 3.0], dtype=\"Float64\")"
   ]
  },
  {
   "cell_type": "code",
   "execution_count": 12,
   "id": "ac6a8d48",
   "metadata": {},
   "outputs": [
    {
     "data": {
      "text/plain": [
       "0    1.0\n",
       "1    2.1\n",
       "2    3.0\n",
       "dtype: Float32"
      ]
     },
     "execution_count": 12,
     "metadata": {},
     "output_type": "execute_result"
    }
   ],
   "source": [
    "pd.to_numeric(s, downcast=\"float\")"
   ]
  },
  {
   "cell_type": "code",
   "execution_count": null,
   "id": "7627f6c8",
   "metadata": {},
   "outputs": [],
   "source": []
  }
 ],
 "metadata": {
  "kernelspec": {
   "display_name": "Python 3 (ipykernel)",
   "language": "python",
   "name": "python3"
  },
  "language_info": {
   "codemirror_mode": {
    "name": "ipython",
    "version": 3
   },
   "file_extension": ".py",
   "mimetype": "text/x-python",
   "name": "python",
   "nbconvert_exporter": "python",
   "pygments_lexer": "ipython3",
   "version": "3.8.7"
  }
 },
 "nbformat": 4,
 "nbformat_minor": 5
}
